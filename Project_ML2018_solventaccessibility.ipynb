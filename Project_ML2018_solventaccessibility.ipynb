{
  "nbformat": 4,
  "nbformat_minor": 0,
  "metadata": {
    "colab": {
      "name": "Project_ML2018_solventaccessibility.ipynb",
      "version": "0.3.2",
      "views": {},
      "default_view": {},
      "provenance": [],
      "collapsed_sections": []
    },
    "kernelspec": {
      "name": "python3",
      "display_name": "Python 3"
    },
    "accelerator": "GPU"
  },
  "cells": [
    {
      "metadata": {
        "id": "tKsGXOVluFhe",
        "colab_type": "text"
      },
      "cell_type": "markdown",
      "source": [
        "\n",
        "\n",
        "# Preparing Environment\n"
      ]
    },
    {
      "metadata": {
        "id": "QkYsb6_wubPe",
        "colab_type": "code",
        "colab": {
          "autoexec": {
            "startup": false,
            "wait_interval": 0
          },
          "base_uri": "https://localhost:8080/",
          "height": 136
        },
        "outputId": "a60d701b-cd9e-4e0a-be31-66c047dbd9e1",
        "executionInfo": {
          "status": "ok",
          "timestamp": 1528461480657,
          "user_tz": -120,
          "elapsed": 5369,
          "user": {
            "displayName": "Fabrizio Di Guardo",
            "photoUrl": "//lh5.googleusercontent.com/-MX0Jy79FOM0/AAAAAAAAAAI/AAAAAAAAB6o/NeneY9drAsk/s50-c-k-no/photo.jpg",
            "userId": "115426827038133204685"
          }
        }
      },
      "cell_type": "code",
      "source": [
        "# Install packages\n",
        "!pip install keras\n",
        "\n",
        "#Import libraries\n",
        "import keras\n",
        "from keras import layers,optimizers\n",
        "\n",
        "import numpy as np\n",
        "from google.colab import files\n",
        "import gzip\n",
        "\n",
        "from keras.utils import to_categorical\n",
        "from keras import backend as K\n",
        "import tensorflow as tf\n",
        "from keras import losses \n",
        "from keras.callbacks import Callback\n",
        "from keras import callbacks\n",
        "from keras.models import Model\n",
        "from keras.layers.core import Dense, Dropout, Activation\n",
        "from keras import layers,optimizers\n",
        "from keras import regularizers\n",
        "from keras.optimizers import Adam,Adadelta\n",
        "from keras import regularizers\n",
        "from keras import metrics\n",
        "import requests,time\n",
        "import tensorflow as tf\n",
        "\n",
        "from random import randint\n",
        "import matplotlib.pyplot as plt"
      ],
      "execution_count": 2,
      "outputs": [
        {
          "output_type": "stream",
          "text": [
            "Requirement already satisfied: keras in /usr/local/lib/python3.6/dist-packages (2.1.6)\r\n",
            "Requirement already satisfied: numpy>=1.9.1 in /usr/local/lib/python3.6/dist-packages (from keras) (1.14.3)\n",
            "Requirement already satisfied: six>=1.9.0 in /usr/local/lib/python3.6/dist-packages (from keras) (1.11.0)\n",
            "Requirement already satisfied: h5py in /usr/local/lib/python3.6/dist-packages (from keras) (2.7.1)\n",
            "Requirement already satisfied: scipy>=0.14 in /usr/local/lib/python3.6/dist-packages (from keras) (0.19.1)\n",
            "Requirement already satisfied: pyyaml in /usr/local/lib/python3.6/dist-packages (from keras) (3.12)\n"
          ],
          "name": "stdout"
        },
        {
          "output_type": "stream",
          "text": [
            "Using TensorFlow backend.\n"
          ],
          "name": "stderr"
        }
      ]
    },
    {
      "metadata": {
        "id": "NJCx7fBeujAM",
        "colab_type": "code",
        "colab": {
          "autoexec": {
            "startup": false,
            "wait_interval": 0
          },
          "base_uri": "https://localhost:8080/",
          "height": 238
        },
        "outputId": "7dccee06-ec23-40ae-e677-27b345ba6cd8",
        "executionInfo": {
          "status": "ok",
          "timestamp": 1528461530796,
          "user_tz": -120,
          "elapsed": 42026,
          "user": {
            "displayName": "Fabrizio Di Guardo",
            "photoUrl": "//lh5.googleusercontent.com/-MX0Jy79FOM0/AAAAAAAAAAI/AAAAAAAAB6o/NeneY9drAsk/s50-c-k-no/photo.jpg",
            "userId": "115426827038133204685"
          }
        }
      },
      "cell_type": "code",
      "source": [
        "# Download the dataset from cullpdb for ICML2014\n",
        "!wget -O cullpdb+profile_6133_filtered.npy.gz \"http://www.princeton.edu/~jzthree/datasets/ICML2014/cullpdb+profile_6133_filtered.npy.gz\"\n",
        "\n",
        "#Prepare the dataset\n",
        "dataset = gzip.open('cullpdb+profile_6133_filtered.npy.gz', 'rb')\n",
        "dataset = np.load(dataset)\n",
        "print(\"Before: \",dataset.shape)\n",
        "dataset = np.reshape(dataset, (dataset.shape[0], 700, 57))\n",
        "print(\"After: \",dataset.shape)"
      ],
      "execution_count": 4,
      "outputs": [
        {
          "output_type": "stream",
          "text": [
            "--2018-06-08 12:41:21--  http://www.princeton.edu/~jzthree/datasets/ICML2014/cullpdb+profile_6133_filtered.npy.gz\n",
            "Resolving www.princeton.edu (www.princeton.edu)... 140.180.223.42\n",
            "Connecting to www.princeton.edu (www.princeton.edu)|140.180.223.42|:80... connected.\n",
            "HTTP request sent, awaiting response... 200 OK\n",
            "Length: 104563491 (100M) [application/x-gzip]\n",
            "Saving to: ‘cullpdb+profile_6133_filtered.npy.gz’\n",
            "\n",
            "cullpdb+profile_613 100%[===================>]  99.72M  2.98MB/s    in 34s     \n",
            "\n",
            "2018-06-08 12:41:55 (2.95 MB/s) - ‘cullpdb+profile_6133_filtered.npy.gz’ saved [104563491/104563491]\n",
            "\n",
            "Before:  (5534, 39900)\n",
            "After:  (5534, 700, 57)\n"
          ],
          "name": "stdout"
        }
      ]
    },
    {
      "metadata": {
        "id": "-ioUrXBoumqg",
        "colab_type": "code",
        "colab": {
          "autoexec": {
            "startup": false,
            "wait_interval": 0
          }
        }
      },
      "cell_type": "code",
      "source": [
        "# OR use a uploaded file\n",
        "\n",
        "uploaded = files.upload()\n",
        "\n",
        "uploaded_file=''\n",
        "for fn in uploaded.keys():\n",
        "  print('User uploaded file \"{name}\" with length {length} bytes'.format(\n",
        "      name=fn, length=len(uploaded[fn])))\n",
        "  uploaded_file = fn\n",
        "\n",
        "# Prepare the dataset\n",
        "dataset = uploaded_file\n",
        "dataset = np.load(dataset)\n",
        "print(\"Before: \",dataset.shape)\n",
        "dataset = np.reshape(dataset, (dataset.shape[0], 700, 57)) # [Proteins|Aminoacids|Features]\n",
        "print(\"After: \",dataset.shape)\n"
      ],
      "execution_count": 0,
      "outputs": []
    },
    {
      "metadata": {
        "id": "FlQIybBZurHW",
        "colab_type": "code",
        "colab": {
          "autoexec": {
            "startup": false,
            "wait_interval": 0
          },
          "base_uri": "https://localhost:8080/",
          "height": 323
        },
        "outputId": "ab558882-73bb-4c6d-d6d4-0de3f695accc",
        "executionInfo": {
          "status": "ok",
          "timestamp": 1528461563948,
          "user_tz": -120,
          "elapsed": 7487,
          "user": {
            "displayName": "Fabrizio Di Guardo",
            "photoUrl": "//lh5.googleusercontent.com/-MX0Jy79FOM0/AAAAAAAAAAI/AAAAAAAAB6o/NeneY9drAsk/s50-c-k-no/photo.jpg",
            "userId": "115426827038133204685"
          }
        }
      },
      "cell_type": "code",
      "source": [
        "# Prepare the datasets for classification\n",
        "\n",
        "print('Preparing dataset...dataset shape ',dataset.shape )\n",
        "dataindex = range(30) # aminoacids + secondary structure => input\n",
        "\n",
        "t_end_idx=int(dataset.shape[0]*0.7)# 4427\n",
        "v_idx = t_end_idx+ int(dataset.shape[0]*0.1)# 4980\n",
        "\n",
        "np.random.seed(1234)\n",
        "idx_arr = np.arange(dataset.shape[0])\n",
        "np.random.shuffle(idx_arr)\n",
        "traindataset = dataset[idx_arr,:,:]\n",
        "\n",
        "print(\"traindataset.. \",traindataset.shape)\n",
        "traindata = traindataset[:t_end_idx,:,dataindex]\n",
        "trainlabel = traindataset[:t_end_idx,:,34:35] # acc relative (33) \n",
        "valdata = traindataset[t_end_idx:v_idx,:,dataindex]\n",
        "vallabel = traindataset[t_end_idx:v_idx,:,34:35]\n",
        "\n",
        "traindata = np.concatenate((traindata, valdata), axis=0)\n",
        "trainlabel = np.concatenate((trainlabel, vallabel), axis=0)\n",
        "\n",
        "testdata = traindataset[v_idx:,:,dataindex]\n",
        "testlabel = traindataset[v_idx:,:,34:35]\n",
        "\n",
        "print(\n",
        "    \"\\n********Before:********\\ntraindata.shape: \",traindata.shape,\n",
        "      \"\\nvaldata.shape: \",valdata.shape,\n",
        "      \"\\ntestdata.shape: \",testdata.shape,\n",
        "      \"\\ntrainlabel.shape: \",trainlabel.shape,\n",
        "      \"\\nvallabel.shape: \",vallabel.shape,\n",
        "      \"\\ntestlabel.shape: \",testlabel.shape\n",
        "    )\n",
        "\n",
        "max_num_amino = 700\n",
        "\n",
        "trainmask = dataset[:t_end_idx,:,30]* -1 + 1\n",
        "valmask = dataset[t_end_idx:v_idx,:,30]* -1 + 1\n",
        "testmask = dataset[v_idx:,:,30]* -1 + 1\n",
        "\n",
        "trainvalmask = np.concatenate((trainmask, valmask), axis=0)\n",
        "\n",
        "trainlabel = to_categorical(trainlabel,2)\n",
        "testlabel = to_categorical(testlabel,2)\n",
        "vallabel = to_categorical(vallabel,2)\n",
        "\n",
        "train_tmp = []\n",
        "train_lab_tmp = []\n",
        "val_tmp = []\n",
        "val_lab_tmp = []\n",
        "test_tmp = []\n",
        "test_lab_tmp = []\n",
        "\n",
        "min_ratio = 0.1\n",
        "max_ratio = 0.9\n",
        "do_ratio = False\n",
        "\n",
        "\n",
        "for i in range(valdata.shape[0]):\n",
        "  p = valdata[i,:max_num_amino,:]\n",
        "  pl = vallabel[i,:max_num_amino,:]\n",
        "  num_amino = int(sum(valmask[i]))\n",
        "  if(num_amino<=max_num_amino):\n",
        "    ratio_first = (np.sum(pl[:num_amino,0])/num_amino)\n",
        "    if do_ratio:\n",
        "      if( min_ratio < ratio_first and ratio_first < max_ratio ):    \n",
        "        val_tmp.append(p)\n",
        "        pl[num_amino:,:]=[0,0]\n",
        "        val_lab_tmp.append(pl)\n",
        "    else:\n",
        "      val_tmp.append(p)\n",
        "      pl[num_amino:,:]=[0,0]\n",
        "      val_lab_tmp.append(pl)\n",
        "\n",
        "for i in range(traindata.shape[0]):\n",
        "  p = traindata[i,:max_num_amino,:]\n",
        "  pl = trainlabel[i,:max_num_amino,:]\n",
        "  num_amino = int(sum(trainvalmask[i]))\n",
        "  if(num_amino<=max_num_amino):\n",
        "    ratio_first = (np.sum(pl[:num_amino,0])/num_amino)\n",
        "    if do_ratio:\n",
        "      if( min_ratio < ratio_first and ratio_first < max_ratio ):      \n",
        "        train_tmp.append(p)\n",
        "        pl[num_amino:,:]=[0,0]\n",
        "        train_lab_tmp.append(pl)\n",
        "    else:      \n",
        "      train_tmp.append(p)\n",
        "      pl[num_amino:,:]=[0,0]\n",
        "      train_lab_tmp.append(pl)\n",
        "\n",
        "for i in range(testdata.shape[0]):\n",
        "  p = testdata[i,:max_num_amino,:]\n",
        "  pl = testlabel[i,:max_num_amino,:]\n",
        "  num_amino = int(sum(testmask[i]))\n",
        "  if(num_amino<=max_num_amino):\n",
        "    ratio_first = (np.sum(pl[:num_amino,0])/num_amino)\n",
        "    if do_ratio:\n",
        "      if( min_ratio < ratio_first and ratio_first < max_ratio ):    \n",
        "        test_tmp.append(p)\n",
        "        pl[num_amino:,:]=[0,0]\n",
        "        test_lab_tmp.append(pl)\n",
        "    else:    \n",
        "      test_tmp.append(p)\n",
        "      pl[num_amino:,:]=[0,0]\n",
        "      test_lab_tmp.append(pl)\n",
        "\n",
        "traindata = np.array(train_tmp).astype(float)\n",
        "valdata = np.array(val_tmp).astype(float)\n",
        "testdata = np.array(test_tmp).astype(float)\n",
        "trainlabel = np.array(train_lab_tmp).astype(float)\n",
        "vallabel = np.array(val_lab_tmp).astype(float)\n",
        "testlabel = np.array(test_lab_tmp).astype(float)\n",
        "\n",
        "\n",
        "print(\"\\n********After:********\\ntraindata.shape: \",traindata.shape,\"\\nvaldata.shape: \",valdata.shape,\"\\ntestdata.shape: \",testdata.shape,\n",
        "      \"\\ntrainlabel.shape: \",trainlabel.shape,\"\\nvallabel.shape: \",vallabel.shape,\"\\ntestlabel.shape: \",testlabel.shape)"
      ],
      "execution_count": 5,
      "outputs": [
        {
          "output_type": "stream",
          "text": [
            "Preparing dataset...dataset shape  (5534, 700, 57)\n",
            "traindataset..  (5534, 700, 57)\n",
            "\n",
            "********Before:********\n",
            "traindata.shape:  (4426, 700, 30) \n",
            "valdata.shape:  (553, 700, 30) \n",
            "testdata.shape:  (1108, 700, 30) \n",
            "trainlabel.shape:  (4426, 700, 1) \n",
            "vallabel.shape:  (553, 700, 1) \n",
            "testlabel.shape:  (1108, 700, 1)\n",
            "\n",
            "********After:********\n",
            "traindata.shape:  (4426, 700, 30) \n",
            "valdata.shape:  (553, 700, 30) \n",
            "testdata.shape:  (1108, 700, 30) \n",
            "trainlabel.shape:  (4426, 700, 2) \n",
            "vallabel.shape:  (553, 700, 2) \n",
            "testlabel.shape:  (1108, 700, 2)\n"
          ],
          "name": "stdout"
        }
      ]
    },
    {
      "metadata": {
        "id": "KSeBvTTluuJ-",
        "colab_type": "code",
        "colab": {
          "autoexec": {
            "startup": false,
            "wait_interval": 0
          }
        }
      },
      "cell_type": "code",
      "source": [
        "def proteinCategoricalCrossentropy(y_true,y_pred):\n",
        "      \n",
        "      loss = y_true * K.log(y_pred)      \n",
        "      loss = -K.sum(loss, -1)\n",
        "      \n",
        "      return loss\n",
        "\n",
        "  \n",
        "def stable_softmax(x, axis=-1):# based on keras implementation\n",
        "    ndim = K.ndim(x)\n",
        "    if ndim == 2:\n",
        "        return K.softmax(x - K.max(x,axis=axis, keepdims=True))\n",
        "    elif ndim > 2:\n",
        "        e = K.exp(x - K.max(x, axis=axis, keepdims=True))\n",
        "        s = K.sum(e, axis=axis, keepdims=True)\n",
        "        return e / s\n",
        "    else:\n",
        "        raise ValueError('Cannot apply softmax to a tensor that is 1D. '\n",
        "                         'Received input: %s' % x)\n",
        "  \n",
        "def weighted_accuracy(y_true, y_pred):\n",
        "    acc = K.sum(K.cast( K.equal(\n",
        "                        K.argmax(y_true, axis=-1),\n",
        "                        K.argmax((y_pred), axis=-1)\n",
        "                    ),\"float32\") * K.sum(y_true, axis=-1)\n",
        "                ) / K.sum(y_true)\n",
        "    return acc\n",
        "    \n",
        "train_accs = []\n",
        "val_accs = []\n",
        "\n",
        "class ProteinCallback(Callback):\n",
        "  def __init__(self, eval_data):\n",
        "      self.eval_data = eval_data\n",
        "      \n",
        "  def on_epoch_end(self, epoch, logs={}):\n",
        "        x, y = self.eval_data\n",
        "        loss, acc = self.model.evaluate(x, y, verbose=0)\n",
        "        print('Testing loss: {}, weighted_accuracy: {}'.format(loss, acc))"
      ],
      "execution_count": 0,
      "outputs": []
    },
    {
      "metadata": {
        "id": "5EprYsYguvoY",
        "colab_type": "code",
        "colab": {
          "autoexec": {
            "startup": false,
            "wait_interval": 0
          }
        }
      },
      "cell_type": "code",
      "source": [
        "#Save Data in gdrive\n",
        "!pip install -U -q PyDrive\n",
        "from pydrive.auth import GoogleAuth\n",
        "from pydrive.drive import GoogleDrive\n",
        "from google.colab import auth\n",
        "from oauth2client.client import GoogleCredentials\n",
        "\n",
        "# Authenticate and create the PyDrive client.\n",
        "# This only needs to be done once in a notebook.\n",
        "auth.authenticate_user()\n",
        "gauth = GoogleAuth()\n",
        "gauth.credentials = GoogleCredentials.get_application_default()\n",
        "drive = GoogleDrive(gauth)"
      ],
      "execution_count": 0,
      "outputs": []
    },
    {
      "metadata": {
        "id": "N3veonh7Kt61",
        "colab_type": "text"
      },
      "cell_type": "markdown",
      "source": [
        "# Convolutional neural network\n"
      ]
    },
    {
      "metadata": {
        "id": "OM7PwdDPvHsa",
        "colab_type": "code",
        "colab": {
          "autoexec": {
            "startup": false,
            "wait_interval": 0
          },
          "base_uri": "https://localhost:8080/",
          "height": 5651
        },
        "outputId": "129ab04b-9ccd-4546-8c4a-983482c3ef22",
        "executionInfo": {
          "status": "ok",
          "timestamp": 1528461838675,
          "user_tz": -120,
          "elapsed": 246823,
          "user": {
            "displayName": "Fabrizio Di Guardo",
            "photoUrl": "//lh5.googleusercontent.com/-MX0Jy79FOM0/AAAAAAAAAAI/AAAAAAAAB6o/NeneY9drAsk/s50-c-k-no/photo.jpg",
            "userId": "115426827038133204685"
          }
        }
      },
      "cell_type": "code",
      "source": [
        "num_epoche = 80\n",
        "conv = 16\n",
        "conv_kernel=7\n",
        "drop = 0\n",
        "activation = 'tanh'\n",
        "poolSize = 5\n",
        "batchSize=32\n",
        "validationSplit=0.1\n",
        "adam = Adam(lr=1e-1)\n",
        "sgd = optimizers.SGD(lr=0.01, decay=1e-6, momentum=0.9, nesterov=True)\n",
        "rmsprop = optimizers.RMSprop(lr=0.0001, rho=0.9, epsilon=None, decay=0.0)\n",
        "optimizer = 'adam'\n",
        "\n",
        "input_layer = layers.Input(shape=(max_num_amino,len(dataindex)), name='input')\n",
        "\n",
        "net = layers.Conv1D(conv,conv_kernel, padding='same')(input_layer)\n",
        "\n",
        "net = layers.Activation(activation)(net)\n",
        "\n",
        "#net = layers.MaxPooling1D(pool_size=poolSize,strides=1,padding='same')(net)\n",
        "\n",
        "net = layers.Dropout(drop)(net)\n",
        "\n",
        "net = layers.Conv1D(conv*2, conv_kernel, padding='same')(net)\n",
        "\n",
        "net = layers.Activation(activation)(net)\n",
        "\n",
        "net = layers.MaxPooling1D(pool_size=poolSize,strides=1,padding='same')(net)\n",
        "\n",
        "net = layers.Dropout(drop)(net)\n",
        "\n",
        "net = layers.Conv1D(conv*3, conv_kernel, padding='same')(net)\n",
        "\n",
        "net = layers.Activation(activation)(net)\n",
        "\n",
        "net = layers.MaxPooling1D(pool_size=poolSize,strides=1,padding='same')(net)\n",
        "\n",
        "net = layers.Dropout(drop)(net)\n",
        "\n",
        "net = layers.Dense(32)(net)\n",
        "net = layers.Activation(activation)(net)\n",
        "net = layers.Dropout(drop)(net)\n",
        "\n",
        "output_layer = layers.Dense(2, activation=stable_softmax, name='output')(net) \n",
        "\n",
        "model = Model(inputs=input_layer, outputs=output_layer)\n",
        "\n",
        "\n",
        "model.compile(optimizer=optimizer,#rmsprop,adam,SGD,adamax\n",
        "              #loss='categorical_crossentropy',\n",
        "              loss=proteinCategoricalCrossentropy,\n",
        "              metrics=[weighted_accuracy])\n",
        "\n",
        "model.summary()\n",
        "model_summary= (str(model.to_json()))\n",
        "# Fit the model\n",
        "\n",
        "time_start = time.time()\n",
        "\n",
        "history = model.fit(traindata,trainlabel,epochs=num_epoche,verbose=1,batch_size=batchSize,#validation_split=validationSplit)\n",
        "                    callbacks=[ProteinCallback((testdata,testlabel))],\n",
        "                    validation_data=(valdata,vallabel))\n",
        "time_execution = time.time() - time_start\n",
        "print(\"Fit time: \",time_execution)\n",
        "\n",
        "test_score= model.evaluate(testdata, testlabel)\n",
        "print(\"Loss \",test_score[0])\n",
        "print(\"Accuracy \",test_score[1])\n",
        "\n",
        "k=randint(0, 3000)\n",
        "testd=traindata[k:(k+700),:,:]\n",
        "testl=trainlabel[k:(k+700),:,:]\n",
        "print('Random test set: from ',k,' to ',k+700)\n",
        "test_score= model.evaluate(testd, testl)\n",
        "print(\"Loss \",test_score[0])\n",
        "print(\"Accuracy \",test_score[1])\n",
        "\n",
        "loss = [x  for x in history.history['loss']]\n",
        "val_loss = [x for x in history.history['val_loss'] ]\n",
        "\n",
        "epochs = range(1, len(loss) + 1)\n",
        "\n",
        "plt.plot(epochs, loss, 'b', label='Training loss')\n",
        "plt.plot(epochs, val_loss, 'r', label='Validation loss')\n",
        "plt.title('Training and validation loss')\n",
        "plt.xlabel('Epochs')\n",
        "plt.ylabel('Loss')\n",
        "plt.legend()\n",
        "\n",
        "plt.show()\n",
        "\n",
        "acc_values =[x for x in history.history['weighted_accuracy']]\n",
        "val_acc_values = [x for x in history.history['val_weighted_accuracy']]\n",
        "\n",
        "plt.plot(epochs, acc_values, 'b', label='Training acc')\n",
        "plt.plot(epochs, val_acc_values, 'r', label='Validation acc')\n",
        "plt.title('Training and validation accuracy')\n",
        "plt.xlabel('Epochs')\n",
        "plt.ylabel('Accuracy')\n",
        "plt.legend()\n",
        "\n",
        "plt.show()\n",
        "\n"
      ],
      "execution_count": 7,
      "outputs": [
        {
          "output_type": "stream",
          "text": [
            "_________________________________________________________________\n",
            "Layer (type)                 Output Shape              Param #   \n",
            "=================================================================\n",
            "input (InputLayer)           (None, 700, 30)           0         \n",
            "_________________________________________________________________\n",
            "conv1d_1 (Conv1D)            (None, 700, 16)           3376      \n",
            "_________________________________________________________________\n",
            "activation_1 (Activation)    (None, 700, 16)           0         \n",
            "_________________________________________________________________\n",
            "dropout_1 (Dropout)          (None, 700, 16)           0         \n",
            "_________________________________________________________________\n",
            "conv1d_2 (Conv1D)            (None, 700, 32)           3616      \n",
            "_________________________________________________________________\n",
            "activation_2 (Activation)    (None, 700, 32)           0         \n",
            "_________________________________________________________________\n",
            "max_pooling1d_1 (MaxPooling1 (None, 700, 32)           0         \n",
            "_________________________________________________________________\n",
            "dropout_2 (Dropout)          (None, 700, 32)           0         \n",
            "_________________________________________________________________\n",
            "conv1d_3 (Conv1D)            (None, 700, 48)           10800     \n",
            "_________________________________________________________________\n",
            "activation_3 (Activation)    (None, 700, 48)           0         \n",
            "_________________________________________________________________\n",
            "max_pooling1d_2 (MaxPooling1 (None, 700, 48)           0         \n",
            "_________________________________________________________________\n",
            "dropout_3 (Dropout)          (None, 700, 48)           0         \n",
            "_________________________________________________________________\n",
            "dense_1 (Dense)              (None, 700, 32)           1568      \n",
            "_________________________________________________________________\n",
            "activation_4 (Activation)    (None, 700, 32)           0         \n",
            "_________________________________________________________________\n",
            "dropout_4 (Dropout)          (None, 700, 32)           0         \n",
            "_________________________________________________________________\n",
            "output (Dense)               (None, 700, 2)            66        \n",
            "=================================================================\n",
            "Total params: 19,426\n",
            "Trainable params: 19,426\n",
            "Non-trainable params: 0\n",
            "_________________________________________________________________\n",
            "Train on 4426 samples, validate on 553 samples\n",
            "Epoch 1/80\n",
            "3360/4426 [=====================>........] - ETA: 1s - loss: 0.1364 - weighted_accuracy: 0.7478"
          ],
          "name": "stdout"
        },
        {
          "output_type": "stream",
          "text": [
            "4426/4426 [==============================] - 6s 1ms/step - loss: 0.1346 - weighted_accuracy: 0.7538 - val_loss: 0.1233 - val_weighted_accuracy: 0.7781\n",
            "Testing loss: 0.12723998074497125, weighted_accuracy: 0.7701354304375632\n",
            "Epoch 2/80\n",
            "4426/4426 [==============================] - 3s 627us/step - loss: 0.1229 - weighted_accuracy: 0.7826 - val_loss: 0.1162 - val_weighted_accuracy: 0.7966\n",
            "Testing loss: 0.11955817624765183, weighted_accuracy: 0.7931690392511416\n",
            "Epoch 3/80\n",
            "4426/4426 [==============================] - 3s 641us/step - loss: 0.1144 - weighted_accuracy: 0.8078 - val_loss: 0.1126 - val_weighted_accuracy: 0.8093\n",
            "Testing loss: 0.11559737592074845, weighted_accuracy: 0.8045174556949078\n",
            "Epoch 4/80\n",
            "4426/4426 [==============================] - 3s 635us/step - loss: 0.1086 - weighted_accuracy: 0.8222 - val_loss: 0.1045 - val_weighted_accuracy: 0.8284\n",
            "Testing loss: 0.10749786035140929, weighted_accuracy: 0.8241694109104171\n",
            "Epoch 5/80\n",
            "1568/4426 [=========>....................] - ETA: 1s - loss: 0.1087 - weighted_accuracy: 0.8277"
          ],
          "name": "stdout"
        },
        {
          "output_type": "stream",
          "text": [
            "4426/4426 [==============================] - 3s 634us/step - loss: 0.1051 - weighted_accuracy: 0.8302 - val_loss: 0.1013 - val_weighted_accuracy: 0.8343\n",
            "Testing loss: 0.10477961589067851, weighted_accuracy: 0.829510303610929\n",
            "Epoch 6/80\n",
            "4426/4426 [==============================] - 3s 627us/step - loss: 0.1028 - weighted_accuracy: 0.8350 - val_loss: 0.1016 - val_weighted_accuracy: 0.8347\n",
            "Testing loss: 0.10518827835360159, weighted_accuracy: 0.8298398492999025\n",
            "Epoch 7/80\n",
            "4426/4426 [==============================] - 3s 638us/step - loss: 0.1016 - weighted_accuracy: 0.8376 - val_loss: 0.1010 - val_weighted_accuracy: 0.8352\n",
            "Testing loss: 0.1044619373358544, weighted_accuracy: 0.8308713864333362\n",
            "Epoch 8/80\n",
            "4426/4426 [==============================] - 3s 634us/step - loss: 0.1004 - weighted_accuracy: 0.8399 - val_loss: 0.0994 - val_weighted_accuracy: 0.8381\n",
            "Testing loss: 0.10314347387866422, weighted_accuracy: 0.8331349474858721\n",
            "Epoch 9/80\n",
            "1472/4426 [========>.....................] - ETA: 1s - loss: 0.1004 - weighted_accuracy: 0.8404"
          ],
          "name": "stdout"
        },
        {
          "output_type": "stream",
          "text": [
            "4426/4426 [==============================] - 3s 632us/step - loss: 0.0993 - weighted_accuracy: 0.8420 - val_loss: 0.0967 - val_weighted_accuracy: 0.8442\n",
            "Testing loss: 0.10106689079466279, weighted_accuracy: 0.8376036637096198\n",
            "Epoch 10/80\n",
            "4426/4426 [==============================] - 3s 631us/step - loss: 0.0990 - weighted_accuracy: 0.8429 - val_loss: 0.0974 - val_weighted_accuracy: 0.8414\n",
            "Testing loss: 0.10224212017515506, weighted_accuracy: 0.833679021695891\n",
            "Epoch 11/80\n",
            "4426/4426 [==============================] - 3s 631us/step - loss: 0.0982 - weighted_accuracy: 0.8441 - val_loss: 0.0956 - val_weighted_accuracy: 0.8466\n",
            "Testing loss: 0.10017099516594023, weighted_accuracy: 0.8396834453520792\n",
            "Epoch 12/80\n",
            "4426/4426 [==============================] - 3s 631us/step - loss: 0.0974 - weighted_accuracy: 0.8457 - val_loss: 0.0946 - val_weighted_accuracy: 0.8483\n",
            "Testing loss: 0.09941988710031613, weighted_accuracy: 0.8408337005208976\n",
            "Epoch 13/80\n",
            "1376/4426 [========>.....................] - ETA: 1s - loss: 0.0952 - weighted_accuracy: 0.8499"
          ],
          "name": "stdout"
        },
        {
          "output_type": "stream",
          "text": [
            "4426/4426 [==============================] - 3s 638us/step - loss: 0.0971 - weighted_accuracy: 0.8464 - val_loss: 0.0948 - val_weighted_accuracy: 0.8471\n",
            "Testing loss: 0.0993659253692799, weighted_accuracy: 0.840701581553862\n",
            "Epoch 14/80\n",
            "4426/4426 [==============================] - 3s 628us/step - loss: 0.0968 - weighted_accuracy: 0.8469 - val_loss: 0.0941 - val_weighted_accuracy: 0.8491\n",
            "Testing loss: 0.09897372570386433, weighted_accuracy: 0.8412202381485205\n",
            "Epoch 15/80\n",
            "4426/4426 [==============================] - 3s 633us/step - loss: 0.0965 - weighted_accuracy: 0.8476 - val_loss: 0.0936 - val_weighted_accuracy: 0.8503\n",
            "Testing loss: 0.09882262276505735, weighted_accuracy: 0.8420843062418032\n",
            "Epoch 16/80\n",
            "4426/4426 [==============================] - 3s 631us/step - loss: 0.0960 - weighted_accuracy: 0.8486 - val_loss: 0.0933 - val_weighted_accuracy: 0.8510\n",
            "Testing loss: 0.09859225616558365, weighted_accuracy: 0.8416173131026946\n",
            "Epoch 17/80\n",
            "1280/4426 [=======>......................] - ETA: 1s - loss: 0.0952 - weighted_accuracy: 0.8502"
          ],
          "name": "stdout"
        },
        {
          "output_type": "stream",
          "text": [
            "4426/4426 [==============================] - 3s 626us/step - loss: 0.0959 - weighted_accuracy: 0.8485 - val_loss: 0.0941 - val_weighted_accuracy: 0.8497\n",
            "Testing loss: 0.09941149465336266, weighted_accuracy: 0.8404188799513806\n",
            "Epoch 18/80\n",
            "4426/4426 [==============================] - 3s 630us/step - loss: 0.0956 - weighted_accuracy: 0.8493 - val_loss: 0.0929 - val_weighted_accuracy: 0.8515\n",
            "Testing loss: 0.09821242478672779, weighted_accuracy: 0.8426465559952526\n",
            "Epoch 19/80\n",
            "4426/4426 [==============================] - 3s 632us/step - loss: 0.0953 - weighted_accuracy: 0.8497 - val_loss: 0.0927 - val_weighted_accuracy: 0.8523\n",
            "Testing loss: 0.09819741194751719, weighted_accuracy: 0.8422975544464717\n",
            "Epoch 20/80\n",
            "4426/4426 [==============================] - 3s 623us/step - loss: 0.0954 - weighted_accuracy: 0.8495 - val_loss: 0.0930 - val_weighted_accuracy: 0.8504\n",
            "Testing loss: 0.09895834442402912, weighted_accuracy: 0.8409444885563764\n",
            "Epoch 21/80\n",
            "1376/4426 [========>.....................] - ETA: 1s - loss: 0.0956 - weighted_accuracy: 0.8496"
          ],
          "name": "stdout"
        },
        {
          "output_type": "stream",
          "text": [
            "4426/4426 [==============================] - 3s 624us/step - loss: 0.0949 - weighted_accuracy: 0.8506 - val_loss: 0.0923 - val_weighted_accuracy: 0.8525\n",
            "Testing loss: 0.09815998945640743, weighted_accuracy: 0.8431672029977241\n",
            "Epoch 22/80\n",
            "4426/4426 [==============================] - 3s 629us/step - loss: 0.0945 - weighted_accuracy: 0.8514 - val_loss: 0.0921 - val_weighted_accuracy: 0.8533\n",
            "Testing loss: 0.09790819477195774, weighted_accuracy: 0.8433298578331186\n",
            "Epoch 23/80\n",
            "4426/4426 [==============================] - 3s 629us/step - loss: 0.0946 - weighted_accuracy: 0.8511 - val_loss: 0.0927 - val_weighted_accuracy: 0.8518\n",
            "Testing loss: 0.09836028457118286, weighted_accuracy: 0.8424760021457603\n",
            "Epoch 24/80\n",
            "4426/4426 [==============================] - 3s 630us/step - loss: 0.0944 - weighted_accuracy: 0.8513 - val_loss: 0.0920 - val_weighted_accuracy: 0.8528\n",
            "Testing loss: 0.09789720360552791, weighted_accuracy: 0.843412662456182\n",
            "Epoch 25/80\n",
            "1376/4426 [========>.....................] - ETA: 1s - loss: 0.0952 - weighted_accuracy: 0.8514"
          ],
          "name": "stdout"
        },
        {
          "output_type": "stream",
          "text": [
            "4426/4426 [==============================] - 3s 627us/step - loss: 0.0940 - weighted_accuracy: 0.8521 - val_loss: 0.0916 - val_weighted_accuracy: 0.8539\n",
            "Testing loss: 0.09792716260528736, weighted_accuracy: 0.8431192178158123\n",
            "Epoch 26/80\n",
            "4426/4426 [==============================] - 3s 631us/step - loss: 0.0940 - weighted_accuracy: 0.8525 - val_loss: 0.0917 - val_weighted_accuracy: 0.8536\n",
            "Testing loss: 0.09802593826064133, weighted_accuracy: 0.8430545908879717\n",
            "Epoch 27/80\n",
            "4426/4426 [==============================] - 3s 632us/step - loss: 0.0939 - weighted_accuracy: 0.8523 - val_loss: 0.0917 - val_weighted_accuracy: 0.8532\n",
            "Testing loss: 0.09793570737223332, weighted_accuracy: 0.843312018829993\n",
            "Epoch 28/80\n",
            "4426/4426 [==============================] - 3s 631us/step - loss: 0.0938 - weighted_accuracy: 0.8527 - val_loss: 0.0924 - val_weighted_accuracy: 0.8521\n",
            "Testing loss: 0.09859899452984978, weighted_accuracy: 0.8422657023268055\n",
            "Epoch 29/80\n",
            "1376/4426 [========>.....................] - ETA: 1s - loss: 0.0914 - weighted_accuracy: 0.8506"
          ],
          "name": "stdout"
        },
        {
          "output_type": "stream",
          "text": [
            "4426/4426 [==============================] - 3s 627us/step - loss: 0.0936 - weighted_accuracy: 0.8532 - val_loss: 0.0916 - val_weighted_accuracy: 0.8534\n",
            "Testing loss: 0.0978868147257433, weighted_accuracy: 0.84376419601888\n",
            "Epoch 30/80\n",
            "4426/4426 [==============================] - 3s 633us/step - loss: 0.0934 - weighted_accuracy: 0.8534 - val_loss: 0.0911 - val_weighted_accuracy: 0.8544\n",
            "Testing loss: 0.09763763616338964, weighted_accuracy: 0.8438425128640681\n",
            "Epoch 31/80\n",
            "4426/4426 [==============================] - 3s 633us/step - loss: 0.0934 - weighted_accuracy: 0.8536 - val_loss: 0.0919 - val_weighted_accuracy: 0.8526\n",
            "Testing loss: 0.09857253695330465, weighted_accuracy: 0.8418912416330744\n",
            "Epoch 32/80\n",
            "4426/4426 [==============================] - 3s 629us/step - loss: 0.0931 - weighted_accuracy: 0.8541 - val_loss: 0.0908 - val_weighted_accuracy: 0.8548\n",
            "Testing loss: 0.09745320884867266, weighted_accuracy: 0.8439514636993408\n",
            "Epoch 33/80\n",
            "1376/4426 [========>.....................] - ETA: 1s - loss: 0.0911 - weighted_accuracy: 0.8585"
          ],
          "name": "stdout"
        },
        {
          "output_type": "stream",
          "text": [
            "4426/4426 [==============================] - 3s 637us/step - loss: 0.0931 - weighted_accuracy: 0.8539 - val_loss: 0.0908 - val_weighted_accuracy: 0.8547\n",
            "Testing loss: 0.0976953603838325, weighted_accuracy: 0.84385772194673\n",
            "Epoch 34/80\n",
            "4426/4426 [==============================] - 3s 631us/step - loss: 0.0927 - weighted_accuracy: 0.8547 - val_loss: 0.0907 - val_weighted_accuracy: 0.8553\n",
            "Testing loss: 0.09768936584034552, weighted_accuracy: 0.8437448475335049\n",
            "Epoch 35/80\n",
            "4426/4426 [==============================] - 3s 623us/step - loss: 0.0930 - weighted_accuracy: 0.8544 - val_loss: 0.0916 - val_weighted_accuracy: 0.8539\n",
            "Testing loss: 0.09832940113458392, weighted_accuracy: 0.841991995861384\n",
            "Epoch 36/80\n",
            "4426/4426 [==============================] - 3s 626us/step - loss: 0.0928 - weighted_accuracy: 0.8545 - val_loss: 0.0900 - val_weighted_accuracy: 0.8563\n",
            "Testing loss: 0.0972283177266052, weighted_accuracy: 0.8448008843277336\n",
            "Epoch 37/80\n",
            "1376/4426 [========>.....................] - ETA: 1s - loss: 0.0927 - weighted_accuracy: 0.8540"
          ],
          "name": "stdout"
        },
        {
          "output_type": "stream",
          "text": [
            "4426/4426 [==============================] - 3s 631us/step - loss: 0.0926 - weighted_accuracy: 0.8547 - val_loss: 0.0903 - val_weighted_accuracy: 0.8564\n",
            "Testing loss: 0.09759657972556159, weighted_accuracy: 0.8437186903471551\n",
            "Epoch 38/80\n",
            "4426/4426 [==============================] - 3s 633us/step - loss: 0.0925 - weighted_accuracy: 0.8552 - val_loss: 0.0901 - val_weighted_accuracy: 0.8566\n",
            "Testing loss: 0.09757128460097399, weighted_accuracy: 0.8436670839140992\n",
            "Epoch 39/80\n",
            "4426/4426 [==============================] - 3s 623us/step - loss: 0.0927 - weighted_accuracy: 0.8547 - val_loss: 0.0898 - val_weighted_accuracy: 0.8570\n",
            "Testing loss: 0.09723550920452022, weighted_accuracy: 0.8447020062470695\n",
            "Epoch 40/80\n",
            "4426/4426 [==============================] - 3s 629us/step - loss: 0.0923 - weighted_accuracy: 0.8552 - val_loss: 0.0909 - val_weighted_accuracy: 0.8551\n",
            "Testing loss: 0.09849345770123202, weighted_accuracy: 0.8419495661766521\n",
            "Epoch 41/80\n",
            "1376/4426 [========>.....................] - ETA: 1s - loss: 0.0913 - weighted_accuracy: 0.8554"
          ],
          "name": "stdout"
        },
        {
          "output_type": "stream",
          "text": [
            "4426/4426 [==============================] - 3s 629us/step - loss: 0.0922 - weighted_accuracy: 0.8559 - val_loss: 0.0898 - val_weighted_accuracy: 0.8566\n",
            "Testing loss: 0.09733159681412287, weighted_accuracy: 0.8444696884292988\n",
            "Epoch 42/80\n",
            "4426/4426 [==============================] - 3s 627us/step - loss: 0.0921 - weighted_accuracy: 0.8561 - val_loss: 0.0899 - val_weighted_accuracy: 0.8568\n",
            "Testing loss: 0.09785675997122961, weighted_accuracy: 0.8440251158893324\n",
            "Epoch 43/80\n",
            "4426/4426 [==============================] - 3s 635us/step - loss: 0.0920 - weighted_accuracy: 0.8557 - val_loss: 0.0910 - val_weighted_accuracy: 0.8548\n",
            "Testing loss: 0.09934550959495861, weighted_accuracy: 0.8408938540878709\n",
            "Epoch 44/80\n",
            "4426/4426 [==============================] - 3s 628us/step - loss: 0.0921 - weighted_accuracy: 0.8558 - val_loss: 0.0903 - val_weighted_accuracy: 0.8555\n",
            "Testing loss: 0.09827472455127144, weighted_accuracy: 0.8429035137706715\n",
            "Epoch 45/80\n",
            "1376/4426 [========>.....................] - ETA: 1s - loss: 0.0931 - weighted_accuracy: 0.8576"
          ],
          "name": "stdout"
        },
        {
          "output_type": "stream",
          "text": [
            "4426/4426 [==============================] - 3s 617us/step - loss: 0.0921 - weighted_accuracy: 0.8558 - val_loss: 0.0899 - val_weighted_accuracy: 0.8576\n",
            "Testing loss: 0.09781464530888016, weighted_accuracy: 0.8428297660411049\n",
            "Epoch 46/80\n",
            "4426/4426 [==============================] - 3s 631us/step - loss: 0.0917 - weighted_accuracy: 0.8568 - val_loss: 0.0895 - val_weighted_accuracy: 0.8579\n",
            "Testing loss: 0.0976038357841409, weighted_accuracy: 0.8436130750050184\n",
            "Epoch 47/80\n",
            "4426/4426 [==============================] - 3s 632us/step - loss: 0.0916 - weighted_accuracy: 0.8572 - val_loss: 0.0892 - val_weighted_accuracy: 0.8590\n",
            "Testing loss: 0.09734162720532194, weighted_accuracy: 0.8442244910591346\n",
            "Epoch 48/80\n",
            "4426/4426 [==============================] - 3s 631us/step - loss: 0.0916 - weighted_accuracy: 0.8568 - val_loss: 0.0892 - val_weighted_accuracy: 0.8584\n",
            "Testing loss: 0.09743850602892762, weighted_accuracy: 0.8449400336303435\n",
            "Epoch 49/80\n",
            "1376/4426 [========>.....................] - ETA: 1s - loss: 0.0930 - weighted_accuracy: 0.8579"
          ],
          "name": "stdout"
        },
        {
          "output_type": "stream",
          "text": [
            "4426/4426 [==============================] - 3s 633us/step - loss: 0.0914 - weighted_accuracy: 0.8572 - val_loss: 0.0904 - val_weighted_accuracy: 0.8567\n",
            "Testing loss: 0.09872890868987418, weighted_accuracy: 0.8424649860454381\n",
            "Epoch 50/80\n",
            "4426/4426 [==============================] - 3s 628us/step - loss: 0.0914 - weighted_accuracy: 0.8572 - val_loss: 0.0890 - val_weighted_accuracy: 0.8590\n",
            "Testing loss: 0.0974472595197199, weighted_accuracy: 0.8438802036567715\n",
            "Epoch 51/80\n",
            "4426/4426 [==============================] - 3s 626us/step - loss: 0.0912 - weighted_accuracy: 0.8577 - val_loss: 0.0897 - val_weighted_accuracy: 0.8575\n",
            "Testing loss: 0.09807907927122357, weighted_accuracy: 0.8432682657930395\n",
            "Epoch 52/80\n",
            "4426/4426 [==============================] - 3s 631us/step - loss: 0.0914 - weighted_accuracy: 0.8573 - val_loss: 0.0898 - val_weighted_accuracy: 0.8570\n",
            "Testing loss: 0.0981374118033299, weighted_accuracy: 0.8423831570449719\n",
            "Epoch 53/80\n",
            "1280/4426 [=======>......................] - ETA: 1s - loss: 0.0891 - weighted_accuracy: 0.8583"
          ],
          "name": "stdout"
        },
        {
          "output_type": "stream",
          "text": [
            "4426/4426 [==============================] - 3s 633us/step - loss: 0.0911 - weighted_accuracy: 0.8578 - val_loss: 0.0892 - val_weighted_accuracy: 0.8579\n",
            "Testing loss: 0.09833573523088483, weighted_accuracy: 0.8434937757705523\n",
            "Epoch 54/80\n",
            "4426/4426 [==============================] - 3s 636us/step - loss: 0.0912 - weighted_accuracy: 0.8578 - val_loss: 0.0899 - val_weighted_accuracy: 0.8574\n",
            "Testing loss: 0.09840400207666714, weighted_accuracy: 0.8430300432422101\n",
            "Epoch 55/80\n",
            "4426/4426 [==============================] - 3s 663us/step - loss: 0.0911 - weighted_accuracy: 0.8582 - val_loss: 0.0886 - val_weighted_accuracy: 0.8597\n",
            "Testing loss: 0.09748390801116448, weighted_accuracy: 0.8440989550700687\n",
            "Epoch 56/80\n",
            "4426/4426 [==============================] - 3s 674us/step - loss: 0.0909 - weighted_accuracy: 0.8584 - val_loss: 0.0884 - val_weighted_accuracy: 0.8600\n",
            "Testing loss: 0.09749398310584712, weighted_accuracy: 0.8444223124197674\n",
            "Epoch 57/80\n",
            "1280/4426 [=======>......................] - ETA: 2s - loss: 0.0904 - weighted_accuracy: 0.8608"
          ],
          "name": "stdout"
        },
        {
          "output_type": "stream",
          "text": [
            "4426/4426 [==============================] - 3s 650us/step - loss: 0.0911 - weighted_accuracy: 0.8580 - val_loss: 0.0890 - val_weighted_accuracy: 0.8587\n",
            "Testing loss: 0.09780788782056057, weighted_accuracy: 0.8435325788246596\n",
            "Epoch 58/80\n",
            "4426/4426 [==============================] - 3s 637us/step - loss: 0.0907 - weighted_accuracy: 0.8590 - val_loss: 0.0884 - val_weighted_accuracy: 0.8605\n",
            "Testing loss: 0.09753297333898096, weighted_accuracy: 0.8437488573983258\n",
            "Epoch 59/80\n",
            "4426/4426 [==============================] - 3s 640us/step - loss: 0.0909 - weighted_accuracy: 0.8586 - val_loss: 0.0890 - val_weighted_accuracy: 0.8597\n",
            "Testing loss: 0.09767333052326195, weighted_accuracy: 0.8439256195987606\n",
            "Epoch 60/80\n",
            "4426/4426 [==============================] - 3s 640us/step - loss: 0.0907 - weighted_accuracy: 0.8584 - val_loss: 0.0884 - val_weighted_accuracy: 0.8599\n",
            "Testing loss: 0.09792673135922704, weighted_accuracy: 0.8431462015055577\n",
            "Epoch 61/80\n",
            "1376/4426 [========>.....................] - ETA: 1s - loss: 0.0904 - weighted_accuracy: 0.8580"
          ],
          "name": "stdout"
        },
        {
          "output_type": "stream",
          "text": [
            "4426/4426 [==============================] - 3s 648us/step - loss: 0.0909 - weighted_accuracy: 0.8585 - val_loss: 0.0884 - val_weighted_accuracy: 0.8602\n",
            "Testing loss: 0.09777599643068624, weighted_accuracy: 0.843637128599284\n",
            "Epoch 62/80\n",
            "4426/4426 [==============================] - 3s 637us/step - loss: 0.0905 - weighted_accuracy: 0.8593 - val_loss: 0.0886 - val_weighted_accuracy: 0.8608\n",
            "Testing loss: 0.09777652577157485, weighted_accuracy: 0.8436404182592454\n",
            "Epoch 63/80\n",
            "4426/4426 [==============================] - 3s 650us/step - loss: 0.0906 - weighted_accuracy: 0.8593 - val_loss: 0.0886 - val_weighted_accuracy: 0.8601\n",
            "Testing loss: 0.09815733653866426, weighted_accuracy: 0.844032133959691\n",
            "Epoch 64/80\n",
            "4426/4426 [==============================] - 3s 649us/step - loss: 0.0904 - weighted_accuracy: 0.8595 - val_loss: 0.0886 - val_weighted_accuracy: 0.8601\n",
            "Testing loss: 0.09797253287548623, weighted_accuracy: 0.8436113852025799\n",
            "Epoch 65/80\n",
            "1376/4426 [========>.....................] - ETA: 1s - loss: 0.0909 - weighted_accuracy: 0.8591"
          ],
          "name": "stdout"
        },
        {
          "output_type": "stream",
          "text": [
            "4426/4426 [==============================] - 3s 629us/step - loss: 0.0904 - weighted_accuracy: 0.8595 - val_loss: 0.0891 - val_weighted_accuracy: 0.8596\n",
            "Testing loss: 0.09857885571808592, weighted_accuracy: 0.8428961630332341\n",
            "Epoch 66/80\n",
            "4426/4426 [==============================] - 3s 648us/step - loss: 0.0906 - weighted_accuracy: 0.8588 - val_loss: 0.0885 - val_weighted_accuracy: 0.8596\n",
            "Testing loss: 0.09864951966041262, weighted_accuracy: 0.8421857341962601\n",
            "Epoch 67/80\n",
            "4426/4426 [==============================] - 3s 653us/step - loss: 0.0905 - weighted_accuracy: 0.8592 - val_loss: 0.0887 - val_weighted_accuracy: 0.8596\n",
            "Testing loss: 0.09837077493486852, weighted_accuracy: 0.8428967676868507\n",
            "Epoch 68/80\n",
            "4426/4426 [==============================] - 3s 651us/step - loss: 0.0903 - weighted_accuracy: 0.8598 - val_loss: 0.0883 - val_weighted_accuracy: 0.8607\n",
            "Testing loss: 0.09814257895580698, weighted_accuracy: 0.8440799452767905\n",
            "Epoch 69/80\n",
            "1280/4426 [=======>......................] - ETA: 1s - loss: 0.0904 - weighted_accuracy: 0.8604"
          ],
          "name": "stdout"
        },
        {
          "output_type": "stream",
          "text": [
            "4426/4426 [==============================] - 3s 640us/step - loss: 0.0903 - weighted_accuracy: 0.8596 - val_loss: 0.0885 - val_weighted_accuracy: 0.8610\n",
            "Testing loss: 0.0982656208024989, weighted_accuracy: 0.8432198937188847\n",
            "Epoch 70/80\n",
            "4426/4426 [==============================] - 3s 632us/step - loss: 0.0902 - weighted_accuracy: 0.8597 - val_loss: 0.0881 - val_weighted_accuracy: 0.8609\n",
            "Testing loss: 0.09825769007636322, weighted_accuracy: 0.8427013358914895\n",
            "Epoch 71/80\n",
            "4426/4426 [==============================] - 3s 627us/step - loss: 0.0901 - weighted_accuracy: 0.8600 - val_loss: 0.0895 - val_weighted_accuracy: 0.8587\n",
            "Testing loss: 0.09917258767121966, weighted_accuracy: 0.8417359222573925\n",
            "Epoch 72/80\n",
            "4426/4426 [==============================] - 3s 633us/step - loss: 0.0901 - weighted_accuracy: 0.8599 - val_loss: 0.0881 - val_weighted_accuracy: 0.8612\n",
            "Testing loss: 0.09850042676452266, weighted_accuracy: 0.8429539616787907\n",
            "Epoch 73/80\n",
            "1376/4426 [========>.....................] - ETA: 1s - loss: 0.0897 - weighted_accuracy: 0.8606"
          ],
          "name": "stdout"
        },
        {
          "output_type": "stream",
          "text": [
            "4426/4426 [==============================] - 3s 633us/step - loss: 0.0900 - weighted_accuracy: 0.8601 - val_loss: 0.0880 - val_weighted_accuracy: 0.8611\n",
            "Testing loss: 0.09857966258637742, weighted_accuracy: 0.8429875190937992\n",
            "Epoch 74/80\n",
            "4426/4426 [==============================] - 3s 633us/step - loss: 0.0900 - weighted_accuracy: 0.8601 - val_loss: 0.0875 - val_weighted_accuracy: 0.8618\n",
            "Testing loss: 0.09801703581203192, weighted_accuracy: 0.8431310167381479\n",
            "Epoch 75/80\n",
            "4426/4426 [==============================] - 3s 631us/step - loss: 0.0899 - weighted_accuracy: 0.8602 - val_loss: 0.0879 - val_weighted_accuracy: 0.8610\n",
            "Testing loss: 0.09849255744515774, weighted_accuracy: 0.8425770485874547\n",
            "Epoch 76/80\n",
            "4426/4426 [==============================] - 3s 647us/step - loss: 0.0899 - weighted_accuracy: 0.8603 - val_loss: 0.0877 - val_weighted_accuracy: 0.8630\n",
            "Testing loss: 0.09802913321484727, weighted_accuracy: 0.8437755936319647\n",
            "Epoch 77/80\n",
            "1376/4426 [========>.....................] - ETA: 1s - loss: 0.0902 - weighted_accuracy: 0.8610"
          ],
          "name": "stdout"
        },
        {
          "output_type": "stream",
          "text": [
            "4426/4426 [==============================] - 3s 640us/step - loss: 0.0899 - weighted_accuracy: 0.8604 - val_loss: 0.0879 - val_weighted_accuracy: 0.8619\n",
            "Testing loss: 0.09817093551589264, weighted_accuracy: 0.843084949448651\n",
            "Epoch 78/80\n",
            "4426/4426 [==============================] - 3s 636us/step - loss: 0.0899 - weighted_accuracy: 0.8603 - val_loss: 0.0876 - val_weighted_accuracy: 0.8618\n",
            "Testing loss: 0.09840467499589231, weighted_accuracy: 0.8430834087654141\n",
            "Epoch 79/80\n",
            "4426/4426 [==============================] - 3s 637us/step - loss: 0.0897 - weighted_accuracy: 0.8610 - val_loss: 0.0873 - val_weighted_accuracy: 0.8626\n",
            "Testing loss: 0.09802733297167272, weighted_accuracy: 0.8439108559370901\n",
            "Epoch 80/80\n",
            "4426/4426 [==============================] - 3s 634us/step - loss: 0.0897 - weighted_accuracy: 0.8609 - val_loss: 0.0873 - val_weighted_accuracy: 0.8624\n",
            "Testing loss: 0.098428428361347, weighted_accuracy: 0.8433549188965064\n",
            "Fit time:  244.8631432056427\n",
            "1108/1108 [==============================] - 0s 206us/step\n",
            "Loss  0.098428428361347\n",
            "Accuracy  0.8433549188965064\n",
            "Random test set: from  2792  to  3492\n",
            "700/700 [==============================] - 0s 211us/step\n",
            "Loss  0.08762128442525864\n",
            "Accuracy  0.860212277003697\n"
          ],
          "name": "stdout"
        },
        {
          "output_type": "display_data",
          "data": {
            "image/png": "[encoded data removed]",
            "text/plain": [
              "<matplotlib.figure.Figure at 0x7f71e3f75a90>"
            ]
          },
          "metadata": {
            "tags": []
          }
        },
        {
          "output_type": "display_data",
          "data": {
            "image/png": "[encoded data removed]",
            "text/plain": [
              "<matplotlib.figure.Figure at 0x7f71e4007550>"
            ]
          },
          "metadata": {
            "tags": []
          }
        }
      ]
    },
    {
      "metadata": {
        "id": "yKwB61zl6I7I",
        "colab_type": "code",
        "colab": {
          "autoexec": {
            "startup": false,
            "wait_interval": 0
          }
        }
      },
      "cell_type": "code",
      "source": [
        "#GRID SEARCH\n",
        "#TEST DROP + TEST ACTIVATION + TEST CONV FILTERS + TEST CONV SIZE\n",
        "\n",
        "import keras\n",
        "\n",
        "def create_model(traindata,trainlabel,valdata,vallabel,opt,batch,nep,conv_filters,conv_size,activation,do_pooling,poolSize,drop,cb_list):\n",
        "\n",
        "  input_layer = layers.Input(shape=(max_num_amino,len(dataindex)), name='input')\n",
        "\n",
        "  net = layers.Conv1D(conv_filters,conv_size, padding='same')(input_layer)\n",
        "\n",
        "  net = layers.Activation(activation)(net)\n",
        "\n",
        "  #net = layers.MaxPooling1D(pool_size=poolSize,strides=1,padding='same')(net)\n",
        "\n",
        "  net = layers.Dropout(drop)(net)\n",
        "\n",
        "  net = layers.Conv1D(conv_filters, conv_size, padding='same')(net)\n",
        "\n",
        "  net = layers.Activation(activation)(net)\n",
        "\n",
        "  if do_pooling:\n",
        "    net = layers.MaxPooling1D(pool_size=poolSize,strides=1,padding='same')(net)\n",
        "\n",
        "  net = layers.Dropout(drop)(net)\n",
        "\n",
        "  net = layers.Conv1D(conv_filters, conv_size, padding='same')(net)\n",
        "\n",
        "  net = layers.Activation(activation)(net)\n",
        "\n",
        "  if do_pooling:\n",
        "    net = layers.MaxPooling1D(pool_size=poolSize,strides=1,padding='same')(net)\n",
        "\n",
        "  net = layers.Dropout(drop)(net)\n",
        "\n",
        "  net = layers.Dense(conv)(net)\n",
        "  net = layers.Activation(activation)(net)\n",
        "  net = layers.Dropout(drop)(net)\n",
        "\n",
        "  output_layer = layers.Dense(2, activation=\"softmax\", name='output')(net) \n",
        "\n",
        "  model = Model(inputs=input_layer, outputs=output_layer)\n",
        "  \n",
        "  model.compile(optimizer=opt,\n",
        "                loss=proteinCategoricalCrossentropy,\n",
        "                metrics=[weighted_accuracy])\n",
        "  history = model.fit(traindata,trainlabel,epochs=nep,verbose=2,callbacks=cb_list,batch_size=batch,validation_data=(valdata,vallabel))\n",
        "  return model,history\n",
        "\n",
        "adam = Adam(lr=0.001)\n",
        "\n",
        "ep = 120\n",
        "optimizers = [adam]\n",
        "batch_sizes = [32]\n",
        "pool_sizes = [2]\n",
        "conv_units = [32]#[16,32,64,128]\n",
        "conv_kernel_size = [7]#[2,5,7]\n",
        "drops = [0]#,0.1,0.25,0.5]\n",
        "activations =  [ 'tanh','relu','sigmoid'] #TODO fare drop. 0.25 + sigmoid\n",
        "do_pool = [True]#TODO rifare senza pooling\n",
        "histories = []\n",
        "test_scores = []\n",
        "\n",
        "time_start_tests = time.time()\n",
        "\n",
        "with open(\"grid_search_\"+ep+\"eps.txt\", \"w\") as txt:\n",
        "  txt.write(\"\")\n",
        "k=0\n",
        "tot = len(optimizers)*len(conv_units)*len(conv_kernel_size)*len(pool_sizes)*len(drops)*len(activations)\n",
        "\n",
        "for optimizer in optimizers:\n",
        "  for act in activations:\n",
        "    for pool in pool_sizes:\n",
        "      for do_p in do_pool:\n",
        "        for batch in batch_sizes:\n",
        "          for conv in conv_units:\n",
        "            for conv_kernel in conv_kernel_size:\n",
        "              for drop in drops:\n",
        "                k=k+1\n",
        "                if k<1:#test già fatti\n",
        "                  break\n",
        "                print(\"Test \",k,\" su \",tot,\" Epochs \",ep,\" - Optimizer \",optimizer,\" - BatchSize\",batch,\" - Activation \",act,\" - conv size \",conv,\n",
        "                      \" - conv kernel \",conv_kernel,\" - do pool \",do_p,\" - pool size \",pool,\" - drop size\",drop)\n",
        "\n",
        "                time_start = time.time()\n",
        "\n",
        "                callbacks_list = []\n",
        "\n",
        "                m,h=create_model(traindata,trainlabel,valdata,vallabel,optimizer,batch,ep,conv_kernel,conv,act,do_p,pool,drop,callbacks_list)\n",
        "\n",
        "                histories.append(h)\n",
        "\n",
        "                time_execution = time.time() - time_start\n",
        "\n",
        "                model_summary= (str(m.to_json()))\n",
        "\n",
        "                test_score= m.evaluate(testdata, testlabel,verbose=0)\n",
        "                test_scores.append(test_score)\n",
        "                print(\"TEST: Loss \",test_score[0],\" - Accuracy \",test_score[1],' in sec. ',time_execution)\n",
        "\n",
        "                with open(\"grid_search_\"+ep+\"eps.txt\", \"a\") as txt:\n",
        "                  txt.write(\"Test %s su %s, activation: %s, conv_filters: %s, conv_kernel_size: %s, do_pooling:%s, pool_size: %s, drop: %s, time:%s --- ACC: %s | LOSS: %s\\n\"% (k,tot,act,conv,conv_kernel,do_p,pool,drop,time_execution,test_score[1],test_score[0]))\n",
        "                  txt.write(\"Losses: [\")\n",
        "                  for x in h.history['loss']:\n",
        "                    txt.write(\" %s ,\" % (x))\n",
        "                  txt.write(\"]\\n\")\n",
        "                  txt.write(\"Val losses: [\")\n",
        "                  for x in h.history['val_loss']:\n",
        "                    txt.write(\" %s ,\" % (x))\n",
        "                  txt.write(\"]\\n\")\n",
        "                  txt.write(\"Acc: [\")\n",
        "                  for x in h.history['weighted_accuracy']:\n",
        "                    txt.write(\" %s ,\" % (x))\n",
        "                  txt.write(\"]\\n\")\n",
        "                  txt.write(\"Val acc: [\")\n",
        "                  for x in h.history['val_weighted_accuracy']:\n",
        "                    txt.write(\" %s ,\" % (x))\n",
        "                  txt.write(\"]\\n\")\n",
        "\n",
        "print('-----Total execution: ',time.time() - time_start_tests)\n",
        "\n",
        "# Create & upload a file.\n",
        "uploaded = drive.CreateFile({'title': 'grid_search_'+ep+'eps.txt'})\n",
        "uploaded.SetContentFile('grid_search_'+ep+'eps.txt')\n",
        "uploaded.Upload()\n",
        "print('Uploaded file with ID {}'.format(uploaded.get('id')))\n",
        "\n",
        "\n",
        "\n",
        "\n",
        "\n",
        "\n",
        "\n",
        "\n"
      ],
      "execution_count": 0,
      "outputs": []
    },
    {
      "metadata": {
        "id": "h1_tKB9BIpaL",
        "colab_type": "code",
        "colab": {
          "autoexec": {
            "startup": false,
            "wait_interval": 0
          },
          "base_uri": "https://localhost:8080/",
          "height": 51
        },
        "outputId": "7958d4e4-6583-4829-a70e-44443f855d93",
        "executionInfo": {
          "status": "ok",
          "timestamp": 1528051218245,
          "user_tz": -120,
          "elapsed": 4367,
          "user": {
            "displayName": "Fabrizio Di Guardo",
            "photoUrl": "//lh5.googleusercontent.com/-MX0Jy79FOM0/AAAAAAAAAAI/AAAAAAAAB6o/NeneY9drAsk/s50-c-k-no/photo.jpg",
            "userId": "115426827038133204685"
          }
        }
      },
      "cell_type": "code",
      "source": [
        "!ls\n",
        "from google.colab import files\n",
        "files.download('grid_search_120eps.txt')"
      ],
      "execution_count": 43,
      "outputs": [
        {
          "output_type": "stream",
          "text": [
            "cullpdb+profile_6133_filtered.npy.gz  grid_search_120eps.txt\r\n",
            "datalab\t\t\t\t      model_250epoche_cnn.h5\r\n"
          ],
          "name": "stdout"
        }
      ]
    },
    {
      "metadata": {
        "id": "2WBNK-7IdKKh",
        "colab_type": "text"
      },
      "cell_type": "markdown",
      "source": [
        "#  Convolution + Bidirectional LSTM\n"
      ]
    },
    {
      "metadata": {
        "id": "ClLPsSf212g_",
        "colab_type": "code",
        "colab": {
          "autoexec": {
            "startup": false,
            "wait_interval": 0
          }
        }
      },
      "cell_type": "code",
      "source": [
        "#CONVOLUTION + LSTM\n",
        "#Note: make it run only if you have 6 hours to lose :-)\n",
        "\n",
        "time_start_tests = time.time()\n",
        "\n",
        "input_layer = layers.Input(shape=(max_num_amino,30), name='input')\n",
        "\n",
        "cnn1 = layers.Conv1D(16,3, padding='same')(input_layer)\n",
        "cnn2 = layers.Conv1D(16,5, padding='same')(input_layer)\n",
        "cnn3 = layers.Conv1D(16,7, padding='same')(input_layer)\n",
        "max_p1 = layers.MaxPool1D(5,strides=1,padding='same')(cnn1)\n",
        "max_p2 = layers.MaxPool1D(5,strides=1,padding='same')(cnn2)\n",
        "max_p3 = layers.MaxPool1D(5,strides=1,padding='same')(cnn3)\n",
        "\n",
        "mergeCNN = layers.Concatenate(axis=-1)([max_p1,max_p2,max_p3])\n",
        "\n",
        "dense1 = layers.Dense(64, activation=\"relu\")(mergeCNN)\n",
        "\n",
        "#drop1 = layers.Dropout(0.5)(dense1)\n",
        "\n",
        "bidi = layers.Bidirectional(layers.LSTM(400,kernel_initializer=initializers.RandomUniform(minval=-0.05, maxval=0.05, seed=None),\n",
        "                bias_initializer='zeros', return_sequences=True), input_shape=(max_num_amino, 30))(dense1)\n",
        "dense2 = layers.Dense(64, activation=\"relu\")(bidi)\n",
        "\n",
        "drop2 = layers.Dropout(0.5)(dense2)\n",
        "\n",
        "dense3 = layers.Dense(32, activation=\"relu\")(drop2)\n",
        "\n",
        "output_layer = layers.Dense(2, activation=\"softmax\")(dense3)\n",
        "\n",
        "model = Model(inputs=input_layer, outputs=output_layer)\n",
        "\n",
        "model.compile(optimizer=optimizers.RMSPROP(lr=10, rho=0.95),#'adam',\n",
        "              loss='categorical_crossentropy',\n",
        "              metrics=[weighted_accuracy])\n",
        "model.summary()\n",
        "\n",
        "history_lstm_120ep = model.fit(traindata,trainlabel,epochs=120,batch_size=128,callbacks=[ProteinCallback((testdata,testlabel))],\n",
        "          validation_data=(valdata,vallabel))\n",
        "\n",
        "print('-----Total execution: ',time.time() - time_start_tests)\n",
        "\n",
        "test_score= model.evaluate(testdata, testlabel)\n",
        "print(\"Loss \",test_score[0])\n",
        "print(\"Accuracy \",test_score[1])\n",
        "\n",
        "loss = history_lstm_120ep.history['loss']\n",
        "val_loss = history_lstm_120ep.history['val_loss']\n",
        "\n",
        "epochs = range(1, len(loss) + 1)\n",
        "\n",
        "plt.plot(epochs, loss, 'b', label='Training loss')\n",
        "plt.plot(epochs, val_loss, 'r', label='Validation loss')\n",
        "plt.title('Training and validation loss')\n",
        "plt.xlabel('Epochs')\n",
        "plt.ylabel('Loss')\n",
        "plt.legend()\n",
        "\n",
        "plt.show()\n",
        "\n",
        "acc_values =history_lstm_120ep.history['weighted_accuracy']\n",
        "val_acc_values = history_lstm_120ep.history['val_weighted_accuracy']\n",
        "\n",
        "plt.plot(epochs, acc_values, 'b', label='Training acc')\n",
        "plt.plot(epochs, val_acc_values, 'r', label='Validation acc')\n",
        "plt.title('Training and validation accuracy')\n",
        "plt.xlabel('Epochs')\n",
        "plt.ylabel('Accuracy')\n",
        "plt.legend()\n",
        "\n",
        "plt.show()\n",
        "\n",
        "\n",
        "model_json = model.to_json()\n",
        "with open(\"model.json\", \"w\") as json_file:\n",
        "    json_file.write(model_json)\n",
        "# serialize weights to HDF5\n",
        "model.save_weights(\"model_30epoche_lstm_v3.h5\")\n",
        "\n",
        "# Create & upload a file.\n",
        "uploaded = drive.CreateFile({'title': 'model_30epoche_lstm_v3.h5'})\n",
        "uploaded.SetContentFile('model_30epoche_lstm_v3.h5')\n",
        "uploaded.Upload()\n",
        "print('Uploaded file with ID {}'.format(uploaded.get('id')))\n",
        "\n",
        "np.save('history_30epoche_lstm_v3.npy',np.array(history_lstm_120ep))\n",
        "\n",
        "# Create & upload a file.\n",
        "uploaded = drive.CreateFile({'title': 'history_30epoche_lstm_v3.npy'})\n",
        "uploaded.SetContentFile('history_30epoche_lstm_v3.npy')\n",
        "uploaded.Upload()\n",
        "print('Uploaded file with ID {}'.format(uploaded.get('id')))"
      ],
      "execution_count": 0,
      "outputs": []
    }
  ]
}